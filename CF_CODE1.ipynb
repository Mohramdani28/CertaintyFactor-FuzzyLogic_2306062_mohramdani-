{
  "nbformat": 4,
  "nbformat_minor": 0,
  "metadata": {
    "colab": {
      "provenance": [],
      "authorship_tag": "ABX9TyNc7lhOtspgnlo1F0H4EL3G",
      "include_colab_link": true
    },
    "kernelspec": {
      "name": "python3",
      "display_name": "Python 3"
    },
    "language_info": {
      "name": "python"
    }
  },
  "cells": [
    {
      "cell_type": "markdown",
      "metadata": {
        "id": "view-in-github",
        "colab_type": "text"
      },
      "source": [
        "<a href=\"https://colab.research.google.com/github/Mohramdani28/CertaintyFactor-FuzzyLogic_2306062_mohramdani-/blob/main/CF_CODE1.ipynb\" target=\"_parent\"><img src=\"https://colab.research.google.com/assets/colab-badge.svg\" alt=\"Open In Colab\"/></a>"
      ]
    },
    {
      "cell_type": "markdown",
      "source": [
        "Tugas 1 CF\n",
        "\n",
        "1. Ubah nilai CF gejala dan amati perubahan\n",
        "hasil\n",
        "\n",
        "*   saya ubah nilai batuk menjadi 0.8 hasilnya CF diagnosis Flu menjadi 0.88\n",
        "*   dari awalnya 0.82\n",
        "\n",
        "2. Tambahkan 5 gejala baru seperti dengan nilai CF.\n",
        "saya tambahkan :\n",
        "\n",
        "*   pusing\n",
        "*   lelah\n",
        "*   hidung_tersumbat\n",
        "*   mata_berair\n",
        "*   menggigil\n",
        "\n",
        "\n",
        "3. Jika \"demam\" diubah jadi 0.2, bagaimana hasilnya? Mengapa?\n",
        "\n",
        "sesudah menaambahkan 5 gejala saya ubah nilai gejala demam menjadi 0.2 jadi hasilnya 0.84\n"
      ],
      "metadata": {
        "id": "KmpVAquiRAgA"
      }
    },
    {
      "cell_type": "code",
      "execution_count": 1,
      "metadata": {
        "colab": {
          "base_uri": "https://localhost:8080/"
        },
        "id": "deI29pbRQjB4",
        "outputId": "ecabb855-51ad-4018-a266-5e0df517051d"
      },
      "outputs": [
        {
          "output_type": "stream",
          "name": "stdout",
          "text": [
            "CF diagnosis Flu: 0.84\n"
          ]
        }
      ],
      "source": [
        "gejala_user = {\n",
        "    \"demam\": 0.2,\n",
        "    \"batuk\": 0.5,\n",
        "    \"sakit_tenggorokan\": 0.6,\n",
        "    \"pusing\": 0.5,\n",
        "    \"lelah\": 0.6,\n",
        "    \"hidung_tersumbat\": 0.5,\n",
        "    \"mata_berair\": 0.2,\n",
        "    \"menggigil\": 0.2\n",
        "}\n",
        "\n",
        "pengetahuan = {\n",
        "    \"flu\": {\n",
        "        \"demam\": 0.8,\n",
        "        \"batuk\": 0.7,\n",
        "        \"sakit_tenggorokan\": 0.6,\n",
        "        \"pusing\": 0.5,\n",
        "        \"lelah\": 0.4,\n",
        "        \"hidung_tersumbat\": 0.3,\n",
        "        \"mata_berair\": 0.2,\n",
        "        \"menggigil\": 0.1\n",
        "    }\n",
        "}\n",
        "\n",
        "def hitung_cf(gejala_user, pengetahuan_pakar):\n",
        "    cf_total = 0\n",
        "    first = True\n",
        "    for gejala, cf_user in gejala_user.items():\n",
        "        if gejala in pengetahuan_pakar:\n",
        "            cf_pakar = pengetahuan_pakar[gejala]\n",
        "            cf = cf_user * cf_pakar\n",
        "            if first:\n",
        "                cf_total = cf\n",
        "                first = False\n",
        "            else:\n",
        "                cf_total = cf_total + cf * (1 - cf_total)\n",
        "    return cf_total\n",
        "\n",
        "cf_flu = hitung_cf(gejala_user, pengetahuan[\"flu\"])\n",
        "print(f\"CF diagnosis Flu: {cf_flu:.2f}\")\n"
      ]
    }
  ]
}